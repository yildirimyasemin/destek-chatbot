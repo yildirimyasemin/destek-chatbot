{
  "nbformat": 4,
  "nbformat_minor": 0,
  "metadata": {
    "colab": {
      "provenance": []
    },
    "kernelspec": {
      "name": "python3",
      "display_name": "Python 3"
    },
    "language_info": {
      "name": "python"
    },
    "widgets": {
      "application/vnd.jupyter.widget-state+json": {
        "dd8ecb4b910d4e6bac68ea74daf4f6d2": {
          "model_module": "@jupyter-widgets/controls",
          "model_name": "HBoxModel",
          "model_module_version": "1.5.0",
          "state": {
            "_dom_classes": [],
            "_model_module": "@jupyter-widgets/controls",
            "_model_module_version": "1.5.0",
            "_model_name": "HBoxModel",
            "_view_count": null,
            "_view_module": "@jupyter-widgets/controls",
            "_view_module_version": "1.5.0",
            "_view_name": "HBoxView",
            "box_style": "",
            "children": [
              "IPY_MODEL_ad89fe7e24e14d378f6ca9601c14de00",
              "IPY_MODEL_eb680304f6f247799e933e7cdf055711",
              "IPY_MODEL_9a02ea8ccd7a483c8459a62194861299"
            ],
            "layout": "IPY_MODEL_e770e76f4860461e88dbfae566f01d4c"
          }
        },
        "ad89fe7e24e14d378f6ca9601c14de00": {
          "model_module": "@jupyter-widgets/controls",
          "model_name": "HTMLModel",
          "model_module_version": "1.5.0",
          "state": {
            "_dom_classes": [],
            "_model_module": "@jupyter-widgets/controls",
            "_model_module_version": "1.5.0",
            "_model_name": "HTMLModel",
            "_view_count": null,
            "_view_module": "@jupyter-widgets/controls",
            "_view_module_version": "1.5.0",
            "_view_name": "HTMLView",
            "description": "",
            "description_tooltip": null,
            "layout": "IPY_MODEL_190aacc729954f2b9edbb5b378ce8b30",
            "placeholder": "​",
            "style": "IPY_MODEL_8839b52d9e8b43a6919cf5a1ea6f0ef3",
            "value": "Batches: 100%"
          }
        },
        "eb680304f6f247799e933e7cdf055711": {
          "model_module": "@jupyter-widgets/controls",
          "model_name": "FloatProgressModel",
          "model_module_version": "1.5.0",
          "state": {
            "_dom_classes": [],
            "_model_module": "@jupyter-widgets/controls",
            "_model_module_version": "1.5.0",
            "_model_name": "FloatProgressModel",
            "_view_count": null,
            "_view_module": "@jupyter-widgets/controls",
            "_view_module_version": "1.5.0",
            "_view_name": "ProgressView",
            "bar_style": "success",
            "description": "",
            "description_tooltip": null,
            "layout": "IPY_MODEL_6cb5698da1fc481795b774b780b9f9ca",
            "max": 3,
            "min": 0,
            "orientation": "horizontal",
            "style": "IPY_MODEL_f25d9255390c407e98edc8f3797b3ab8",
            "value": 3
          }
        },
        "9a02ea8ccd7a483c8459a62194861299": {
          "model_module": "@jupyter-widgets/controls",
          "model_name": "HTMLModel",
          "model_module_version": "1.5.0",
          "state": {
            "_dom_classes": [],
            "_model_module": "@jupyter-widgets/controls",
            "_model_module_version": "1.5.0",
            "_model_name": "HTMLModel",
            "_view_count": null,
            "_view_module": "@jupyter-widgets/controls",
            "_view_module_version": "1.5.0",
            "_view_name": "HTMLView",
            "description": "",
            "description_tooltip": null,
            "layout": "IPY_MODEL_b36fa076cedb480f9070411b7b2a1c67",
            "placeholder": "​",
            "style": "IPY_MODEL_ee1540af64334394aceb717e7bdda361",
            "value": " 3/3 [00:20&lt;00:00,  6.08s/it]"
          }
        },
        "e770e76f4860461e88dbfae566f01d4c": {
          "model_module": "@jupyter-widgets/base",
          "model_name": "LayoutModel",
          "model_module_version": "1.2.0",
          "state": {
            "_model_module": "@jupyter-widgets/base",
            "_model_module_version": "1.2.0",
            "_model_name": "LayoutModel",
            "_view_count": null,
            "_view_module": "@jupyter-widgets/base",
            "_view_module_version": "1.2.0",
            "_view_name": "LayoutView",
            "align_content": null,
            "align_items": null,
            "align_self": null,
            "border": null,
            "bottom": null,
            "display": null,
            "flex": null,
            "flex_flow": null,
            "grid_area": null,
            "grid_auto_columns": null,
            "grid_auto_flow": null,
            "grid_auto_rows": null,
            "grid_column": null,
            "grid_gap": null,
            "grid_row": null,
            "grid_template_areas": null,
            "grid_template_columns": null,
            "grid_template_rows": null,
            "height": null,
            "justify_content": null,
            "justify_items": null,
            "left": null,
            "margin": null,
            "max_height": null,
            "max_width": null,
            "min_height": null,
            "min_width": null,
            "object_fit": null,
            "object_position": null,
            "order": null,
            "overflow": null,
            "overflow_x": null,
            "overflow_y": null,
            "padding": null,
            "right": null,
            "top": null,
            "visibility": null,
            "width": null
          }
        },
        "190aacc729954f2b9edbb5b378ce8b30": {
          "model_module": "@jupyter-widgets/base",
          "model_name": "LayoutModel",
          "model_module_version": "1.2.0",
          "state": {
            "_model_module": "@jupyter-widgets/base",
            "_model_module_version": "1.2.0",
            "_model_name": "LayoutModel",
            "_view_count": null,
            "_view_module": "@jupyter-widgets/base",
            "_view_module_version": "1.2.0",
            "_view_name": "LayoutView",
            "align_content": null,
            "align_items": null,
            "align_self": null,
            "border": null,
            "bottom": null,
            "display": null,
            "flex": null,
            "flex_flow": null,
            "grid_area": null,
            "grid_auto_columns": null,
            "grid_auto_flow": null,
            "grid_auto_rows": null,
            "grid_column": null,
            "grid_gap": null,
            "grid_row": null,
            "grid_template_areas": null,
            "grid_template_columns": null,
            "grid_template_rows": null,
            "height": null,
            "justify_content": null,
            "justify_items": null,
            "left": null,
            "margin": null,
            "max_height": null,
            "max_width": null,
            "min_height": null,
            "min_width": null,
            "object_fit": null,
            "object_position": null,
            "order": null,
            "overflow": null,
            "overflow_x": null,
            "overflow_y": null,
            "padding": null,
            "right": null,
            "top": null,
            "visibility": null,
            "width": null
          }
        },
        "8839b52d9e8b43a6919cf5a1ea6f0ef3": {
          "model_module": "@jupyter-widgets/controls",
          "model_name": "DescriptionStyleModel",
          "model_module_version": "1.5.0",
          "state": {
            "_model_module": "@jupyter-widgets/controls",
            "_model_module_version": "1.5.0",
            "_model_name": "DescriptionStyleModel",
            "_view_count": null,
            "_view_module": "@jupyter-widgets/base",
            "_view_module_version": "1.2.0",
            "_view_name": "StyleView",
            "description_width": ""
          }
        },
        "6cb5698da1fc481795b774b780b9f9ca": {
          "model_module": "@jupyter-widgets/base",
          "model_name": "LayoutModel",
          "model_module_version": "1.2.0",
          "state": {
            "_model_module": "@jupyter-widgets/base",
            "_model_module_version": "1.2.0",
            "_model_name": "LayoutModel",
            "_view_count": null,
            "_view_module": "@jupyter-widgets/base",
            "_view_module_version": "1.2.0",
            "_view_name": "LayoutView",
            "align_content": null,
            "align_items": null,
            "align_self": null,
            "border": null,
            "bottom": null,
            "display": null,
            "flex": null,
            "flex_flow": null,
            "grid_area": null,
            "grid_auto_columns": null,
            "grid_auto_flow": null,
            "grid_auto_rows": null,
            "grid_column": null,
            "grid_gap": null,
            "grid_row": null,
            "grid_template_areas": null,
            "grid_template_columns": null,
            "grid_template_rows": null,
            "height": null,
            "justify_content": null,
            "justify_items": null,
            "left": null,
            "margin": null,
            "max_height": null,
            "max_width": null,
            "min_height": null,
            "min_width": null,
            "object_fit": null,
            "object_position": null,
            "order": null,
            "overflow": null,
            "overflow_x": null,
            "overflow_y": null,
            "padding": null,
            "right": null,
            "top": null,
            "visibility": null,
            "width": null
          }
        },
        "f25d9255390c407e98edc8f3797b3ab8": {
          "model_module": "@jupyter-widgets/controls",
          "model_name": "ProgressStyleModel",
          "model_module_version": "1.5.0",
          "state": {
            "_model_module": "@jupyter-widgets/controls",
            "_model_module_version": "1.5.0",
            "_model_name": "ProgressStyleModel",
            "_view_count": null,
            "_view_module": "@jupyter-widgets/base",
            "_view_module_version": "1.2.0",
            "_view_name": "StyleView",
            "bar_color": null,
            "description_width": ""
          }
        },
        "b36fa076cedb480f9070411b7b2a1c67": {
          "model_module": "@jupyter-widgets/base",
          "model_name": "LayoutModel",
          "model_module_version": "1.2.0",
          "state": {
            "_model_module": "@jupyter-widgets/base",
            "_model_module_version": "1.2.0",
            "_model_name": "LayoutModel",
            "_view_count": null,
            "_view_module": "@jupyter-widgets/base",
            "_view_module_version": "1.2.0",
            "_view_name": "LayoutView",
            "align_content": null,
            "align_items": null,
            "align_self": null,
            "border": null,
            "bottom": null,
            "display": null,
            "flex": null,
            "flex_flow": null,
            "grid_area": null,
            "grid_auto_columns": null,
            "grid_auto_flow": null,
            "grid_auto_rows": null,
            "grid_column": null,
            "grid_gap": null,
            "grid_row": null,
            "grid_template_areas": null,
            "grid_template_columns": null,
            "grid_template_rows": null,
            "height": null,
            "justify_content": null,
            "justify_items": null,
            "left": null,
            "margin": null,
            "max_height": null,
            "max_width": null,
            "min_height": null,
            "min_width": null,
            "object_fit": null,
            "object_position": null,
            "order": null,
            "overflow": null,
            "overflow_x": null,
            "overflow_y": null,
            "padding": null,
            "right": null,
            "top": null,
            "visibility": null,
            "width": null
          }
        },
        "ee1540af64334394aceb717e7bdda361": {
          "model_module": "@jupyter-widgets/controls",
          "model_name": "DescriptionStyleModel",
          "model_module_version": "1.5.0",
          "state": {
            "_model_module": "@jupyter-widgets/controls",
            "_model_module_version": "1.5.0",
            "_model_name": "DescriptionStyleModel",
            "_view_count": null,
            "_view_module": "@jupyter-widgets/base",
            "_view_module_version": "1.2.0",
            "_view_name": "StyleView",
            "description_width": ""
          }
        }
      }
    }
  },
  "cells": [
    {
      "cell_type": "code",
      "execution_count": 47,
      "metadata": {
        "id": "7tUMEMHhe68k"
      },
      "outputs": [],
      "source": [
        "# gerekli kütüphaneler\n",
        "!pip install -q pandas numpy google-genai sentence-transformers faiss-cpu\n",
        "\n",
        "import pandas as pd\n",
        "import json\n",
        "import numpy as np\n",
        "from sentence_transformers import SentenceTransformer\n",
        "import faiss\n",
        "from google import genai\n",
        "from google.colab import userdata\n",
        "\n",
        "\n"
      ]
    },
    {
      "cell_type": "code",
      "source": [
        "# API anahtarı, client tanımı\n",
        "try:\n",
        "    API_KEY = userdata.get('GEMINI_API_KEY')\n",
        "    client = genai.Client(api_key=API_KEY)\n",
        "    print(\"API Client oluşturma başarılı.\")\n",
        "except Exception as e:\n",
        "    print(f\"Hata: Client başlatılamadı.. Detay: {e}\")\n",
        "    client = None\n",
        "\n",
        "# Dosya adı\n",
        "file_path = 'train_expanded.json'\n",
        "\n",
        "data_list = []\n",
        "try:\n",
        "    # hatalı satırları atlama\n",
        "    with open(file_path, 'r', encoding='utf-8') as f:\n",
        "        for line in f:\n",
        "            line = line.strip()\n",
        "            if line:\n",
        "                try:\n",
        "                    data_list.append(json.loads(line))\n",
        "                except json.JSONDecodeError:\n",
        "                    continue\n",
        "\n",
        "    # DataFrame'e dönüştürme, tekrar edenlerin temizliği\n",
        "    df = pd.DataFrame(data_list)\n",
        "    initial_count = len(df)\n",
        "    df = df.drop_duplicates(subset=['question', 'answer']).reset_index(drop=True)\n",
        "\n",
        "    print(f\"Başlangıç: {initial_count} Soru. Temizleme Sonrası: {len(df)} Soru.\")\n",
        "\n",
        "    # Vektörleştirme; soru cevabı birleştirme\n",
        "    df['combined_text'] = 'Soru: ' + df['question'] + ' Cevap: ' + df['answer']\n",
        "\n",
        "\n",
        "except FileNotFoundError:\n",
        "    print(f\"HATA: '{file_path}' dosyası bulunamadı..\")\n",
        "    raise"
      ],
      "metadata": {
        "colab": {
          "base_uri": "https://localhost:8080/"
        },
        "id": "96MWSMPzK-V2",
        "outputId": "ca4ed0bb-88c0-4b51-b972-7840fa9efb14"
      },
      "execution_count": 48,
      "outputs": [
        {
          "output_type": "stream",
          "name": "stdout",
          "text": [
            "API Client oluşturma başarılı.\n",
            "Başlangıç: 200 Soru. Temizleme Sonrası: 89 Soru.\n"
          ]
        }
      ]
    },
    {
      "cell_type": "markdown",
      "source": [
        "**Bu kısımda embedding modeli değiştirmek gerekti çünkü sorgulanan verileri doğru görüp getiremedi.**"
      ],
      "metadata": {
        "id": "qnnQPM3vFA00"
      }
    },
    {
      "cell_type": "code",
      "source": [
        "\n",
        "\n",
        "\n",
        "\n",
        "print(\"\\nEmbedding modeli yükleniyor: paraphrase-multilingual-mpnet-base-v2...\")\n",
        "embedder = SentenceTransformer('paraphrase-multilingual-mpnet-base-v2')\n",
        "\n",
        "# vektörleştirme\n",
        "print(f\"{len(df)}vektörlere dönüştürülüyor...\")\n",
        "corpus_embeddings = embedder.encode(df['combined_text'].tolist(), show_progress_bar=True)\n",
        "\n",
        "# faiss indexi, verileri ekleme\n",
        "embedding_dim = corpus_embeddings.shape[1]\n",
        "index = faiss.IndexFlatL2(embedding_dim)\n",
        "index.add(corpus_embeddings)\n",
        "\n",
        "\n",
        "# indexi kaydetme\n",
        "faiss_index_file = \"faiss_index_faq.bin\"\n",
        "faiss.write_index(index, faiss_index_file)\n",
        "print(f\" '{faiss_index_file}' kaydedildi.\")"
      ],
      "metadata": {
        "colab": {
          "base_uri": "https://localhost:8080/",
          "height": 118,
          "referenced_widgets": [
            "dd8ecb4b910d4e6bac68ea74daf4f6d2",
            "ad89fe7e24e14d378f6ca9601c14de00",
            "eb680304f6f247799e933e7cdf055711",
            "9a02ea8ccd7a483c8459a62194861299",
            "e770e76f4860461e88dbfae566f01d4c",
            "190aacc729954f2b9edbb5b378ce8b30",
            "8839b52d9e8b43a6919cf5a1ea6f0ef3",
            "6cb5698da1fc481795b774b780b9f9ca",
            "f25d9255390c407e98edc8f3797b3ab8",
            "b36fa076cedb480f9070411b7b2a1c67",
            "ee1540af64334394aceb717e7bdda361"
          ]
        },
        "id": "fPlHAx9ePfWa",
        "outputId": "751ac1e6-c78d-4994-b429-b9fef65dadb8"
      },
      "execution_count": 49,
      "outputs": [
        {
          "output_type": "stream",
          "name": "stdout",
          "text": [
            "\n",
            "Embedding modeli yükleniyor: paraphrase-multilingual-mpnet-base-v2...\n",
            "89vektörlere dönüştürülüyor...\n"
          ]
        },
        {
          "output_type": "display_data",
          "data": {
            "text/plain": [
              "Batches:   0%|          | 0/3 [00:00<?, ?it/s]"
            ],
            "application/vnd.jupyter.widget-view+json": {
              "version_major": 2,
              "version_minor": 0,
              "model_id": "dd8ecb4b910d4e6bac68ea74daf4f6d2"
            }
          },
          "metadata": {}
        },
        {
          "output_type": "stream",
          "name": "stdout",
          "text": [
            " 'faiss_index_faq.bin' kaydedildi.\n"
          ]
        }
      ]
    },
    {
      "cell_type": "code",
      "source": [
        "\n",
        "\n",
        "model_name = 'gemini-2.5-flash'\n",
        "\n",
        "def generate_rag_response(user_input, history):\n",
        "    \"\"\"\n",
        "    Gradio arayüzünden gelen kullanıcı girdisini işler\n",
        "\n",
        "    \"\"\"\n",
        "    global client, embedder, index, df\n",
        "\n",
        "    # hata kontrol\n",
        "    if client is None:\n",
        "        return \"Chatbot şu anda kullanılamıyor.\"\n",
        "    if index is None:\n",
        "        return \"Veri yükleme hatası nedeniyle arama yapılamıyor.\"\n",
        "\n",
        "\n",
        "\n",
        "    # Selamlama Filtresi\n",
        "    greetings = [\"merhaba\", \"selam\", \"hi\", \"hello\", \"günaydın\", \"iyi günler\"]\n",
        "\n",
        "\n",
        "    user_words = user_input.lower().split()\n",
        "\n",
        "    is_greeting = any(word in greetings for word in user_words[:2])\n",
        "\n",
        "    if is_greeting:\n",
        "        return \"Merhaba! Size siparişleriniz, iadeleriniz, hesap bilgileriniz veya diğer destek konuları hakkında nasıl yardımcı olabilirim?\"\n",
        "\n",
        "\n",
        "    # başarılı arama için girdiyi verisetinin diline çevirme\n",
        "    translation_prompt = f\"Translate the following user query to English only: {user_input}\"\n",
        "    try:\n",
        "        translation_response = client.models.generate_content(\n",
        "            model=model_name, contents=translation_prompt\n",
        "        )\n",
        "        english_query = translation_response.text.strip().split('\\n')[0].replace('*', '')\n",
        "        print(f\"[ARAMA SORGUSU] İngilizce çeviri: {english_query}\")\n",
        "    except Exception:\n",
        "        english_query = user_input # Çeviri hatası durumunda orijinali kullan\n",
        "\n",
        "    # RAG context veri çekme\n",
        "    k = 3\n",
        "    query_embedding = embedder.encode([english_query])\n",
        "    D, I = index.search(query_embedding, k)\n",
        "    retrieved_chunks = df.iloc[I[0]]['combined_text'].tolist()\n",
        "    rag_kaynagi = \"\\n---\\n\".join(retrieved_chunks)\n",
        "\n",
        "    # GEMİNİ PROMPT\n",
        "    final_prompt = f\"\"\"\n",
        "    SEN bir müşteri destek chatbot'usun. Tüm cevapları KESİNLİKLE TÜRKÇE olarak vermelisin.\n",
        "    Sadece aşağıdaki KAYNAK BİLGİSİNDE bulunan bilgilere dayanarak, kullanıcının sorusuna kibar ve özlü bir dille cevap ver.\n",
        "\n",
        "\n",
        "\n",
        "    Eğer Kaynak Bilgide sorunun bir bölümünün cevabı yoksa, **bulduğu kısım hakkında bilgi ver ve bulamadığı kısım için ayrı bir cümleyle \"Tarafımda bu konu hakkında bilgi bulunmamaktadır, lütfen destek ekibimizle iletişime geçin.\" diye yanıtla. Daha sonra KAYNAKTAN konuyla alakalı en yakın  mevcut bilgiyi alıp yaz.**\n",
        "\n",
        "    KULLANICI SORUSU: {user_input}\n",
        "\n",
        "     KAYNAK BİLGİ (ALAKALI)\n",
        "    {rag_kaynagi}\n",
        "    --------------------------\n",
        "    \"\"\"\n",
        "\n",
        "    # API çağırma\n",
        "    try:\n",
        "        response = client.models.generate_content(\n",
        "            model=model_name,\n",
        "            contents=final_prompt\n",
        "        )\n",
        "        return response.text\n",
        "    except Exception as e:\n",
        "        return f\"Gemini API hatası: {e}\"\n",
        "\n"
      ],
      "metadata": {
        "id": "N0XaS2qHIvL6"
      },
      "execution_count": 50,
      "outputs": []
    },
    {
      "cell_type": "code",
      "source": [
        "# Chatbot Arayüzü\n",
        "\n",
        "initial_message = [\n",
        "    {\"role\": \"assistant\", \"content\": \"Merhaba! Ben Müşteri Destek Asistanı. Sipariş, iade veya hesap sorunlarınızla ilgili size nasıl yardımcı olabilirim?\"}\n",
        "]\n",
        "iface = gr.ChatInterface(\n",
        "    fn=generate_rag_response, # ana fonksiyon\n",
        "    chatbot=gr.Chatbot(height=300), # sohbet mesajları kutusu yükseklik\n",
        "    textbox=gr.Textbox(placeholder=\"Lütfen sorunuzu girin...\", container=False, scale=7), # Kullanıcının giriş kutusu\n",
        "    title=\"Müşteri Destek Asistanı\",\n",
        "    description=\"Müşteriler tarafından 'sıkça sorulan sorular'ın cevabını içermektedir.\",\n",
        "    theme=\"soft\" # Arayüz teması\n",
        ")\n",
        "\n",
        "# Arayüzü Başlatma\n",
        "\n",
        "iface.queue().launch(share=True)"
      ],
      "metadata": {
        "colab": {
          "base_uri": "https://localhost:8080/",
          "height": 680
        },
        "id": "Ujxjhdbk_uKB",
        "outputId": "595763a0-680e-487a-a120-63c27d609e75"
      },
      "execution_count": 51,
      "outputs": [
        {
          "output_type": "stream",
          "name": "stderr",
          "text": [
            "/tmp/ipython-input-3184166462.py:8: UserWarning: You have not specified a value for the `type` parameter. Defaulting to the 'tuples' format for chatbot messages, but this is deprecated and will be removed in a future version of Gradio. Please set type='messages' instead, which uses openai-style dictionaries with 'role' and 'content' keys.\n",
            "  chatbot=gr.Chatbot(height=300), # sohbet mesajları kutusu yükseklik\n",
            "/usr/local/lib/python3.12/dist-packages/gradio/chat_interface.py:330: UserWarning: The gr.ChatInterface was not provided with a type, so the type of the gr.Chatbot, 'tuples', will be used.\n",
            "  warnings.warn(\n"
          ]
        },
        {
          "output_type": "stream",
          "name": "stdout",
          "text": [
            "Colab notebook detected. To show errors in colab notebook, set debug=True in launch()\n",
            "* Running on public URL: https://4a558fd74ddaef01a0.gradio.live\n",
            "\n",
            "This share link expires in 1 week. For free permanent hosting and GPU upgrades, run `gradio deploy` from the terminal in the working directory to deploy to Hugging Face Spaces (https://huggingface.co/spaces)\n"
          ]
        },
        {
          "output_type": "display_data",
          "data": {
            "text/plain": [
              "<IPython.core.display.HTML object>"
            ],
            "text/html": [
              "<div><iframe src=\"https://4a558fd74ddaef01a0.gradio.live\" width=\"100%\" height=\"500\" allow=\"autoplay; camera; microphone; clipboard-read; clipboard-write;\" frameborder=\"0\" allowfullscreen></iframe></div>"
            ]
          },
          "metadata": {}
        },
        {
          "output_type": "execute_result",
          "data": {
            "text/plain": []
          },
          "metadata": {},
          "execution_count": 51
        }
      ]
    }
  ]
}